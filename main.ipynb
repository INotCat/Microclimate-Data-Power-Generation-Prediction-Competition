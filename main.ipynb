{
 "cells": [
  {
   "cell_type": "code",
   "execution_count": 1,
   "metadata": {},
   "outputs": [],
   "source": [
    "# Basic module\n",
    "import numpy as np\n",
    "import matplotlib.pyplot as plt\n",
    "from tqdm.notebook import tqdm\n",
    "import pandas as pd\n",
    "# PyTorch\n",
    "import torch\n",
    "import torch.nn as nn\n",
    "from torch.utils.data import DataLoader\n",
    "\n",
    "# Custom\n",
    "from utils.read_file import *\n",
    "from utils.TimeSeriesDataset import *\n",
    "from utils.preprocess_tool import *"
   ]
  },
  {
   "cell_type": "markdown",
   "metadata": {},
   "source": []
  },
  {
   "cell_type": "code",
   "execution_count": 2,
   "metadata": {},
   "outputs": [],
   "source": [
    "DATA_PATH = \"36_TrainingData/\"\n",
    "device = \"cuda\" if torch.cuda.is_available() else \"cpu\""
   ]
  },
  {
   "cell_type": "code",
   "execution_count": 3,
   "metadata": {},
   "outputs": [],
   "source": [
    "# read all data\n",
    "raw_data = read_all_csvs(DATA_PATH)"
   ]
  },
  {
   "cell_type": "code",
   "execution_count": 4,
   "metadata": {},
   "outputs": [],
   "source": [
    "normalized_data = normalize(raw_data)\n",
    "#normalized_data"
   ]
  },
  {
   "cell_type": "code",
   "execution_count": 5,
   "metadata": {},
   "outputs": [],
   "source": [
    "# split location\n",
    "df_split_by_location = split_by_location(normalized_data)\n",
    "# for loc, d in df_split_by_location.items():\n",
    "#     print(loc)"
   ]
  },
  {
   "cell_type": "code",
   "execution_count": 6,
   "metadata": {},
   "outputs": [],
   "source": [
    "# # Check timestamp in order to check split one location's day\n",
    "\n",
    "# from datetime import date\n",
    "# loc = ['0.0', '0.0625', '0.125', '0.1875', '0.25',\n",
    "# '0.3125', '0.375', '0.4375', '0.5', '0.5625', '0.625',\n",
    "# '0.6875', '0.75', '0.8125', '0.875', '0.9375', '1.0']\n",
    "\n",
    "# # for l in loc:\n",
    "# #     df_sd = split_by_day(df_split_by_location[float(l)])\n",
    "# #     #df_sd[d]\n",
    "# #     for date, d in df_sd.items():\n",
    "# #         if(len(d))< 100:\n",
    "# #             print(f'{l}, {date}, {len(d)}')\n",
    "# df_sd = split_by_9am_to_next_9am(df_split_by_location[0.0], '10min') \n",
    "# d = date(2024, 1, 5)\n",
    "# df_sd[d]   #667 means 1mins version ##66 means 10 mins version"
   ]
  },
  {
   "cell_type": "code",
   "execution_count": 7,
   "metadata": {},
   "outputs": [],
   "source": [
    "# specific_day_X, specific_day_Y = split_by_XY(df_sd)\n",
    "# specific_day_Y[0]"
   ]
  },
  {
   "cell_type": "code",
   "execution_count": 8,
   "metadata": {},
   "outputs": [
    {
     "data": {
      "text/plain": [
       "(1046, 1046, 8, 8)"
      ]
     },
     "execution_count": 8,
     "metadata": {},
     "output_type": "execute_result"
    }
   ],
   "source": [
    "from itertools import pairwise\n",
    "# collect all array\n",
    "Xs = []\n",
    "Ys = []\n",
    "for loc, df_by_loc in df_split_by_location.items():\n",
    "        df_loc_dates = split_by_9am_to_next_9am(df_by_loc, mode='10min') #default is 10mins\n",
    "\n",
    "        #print(len(df_loc_dates))\n",
    "        \n",
    "        for (date, df_per_day), (next_date, df_per_next_day) in pairwise(df_loc_dates.items()):\n",
    "                if len(df_per_day) < 60 | len(df_per_next_day) < 60:\n",
    "                         continue\n",
    "                #print(f'today: {date} , next day: {next_date}')\n",
    "                # break\n",
    "#             # print(type(df_per_day))\n",
    "                df_x, df_y = split_by_XY(df_per_day)\n",
    "                df_next_x, df_next_y = split_by_XY(df_per_next_day)\n",
    "                \n",
    "                if abs(len(df_x) - len(df_next_y)) > 3:\n",
    "                        continue\n",
    "                #print(f'today: {date} , next day: {next_date}, {len(df_x)}, {len(df_next_y)}')\n",
    "                \n",
    "                sequences = create_sequences(df_x, df_next_y, 60, 60)\n",
    "                \n",
    "                if sequences:\n",
    "                        x_windows, y_windows = sequences  #control create sequence number\n",
    "                        \n",
    "                        Xs.append(x_windows)\n",
    "                        Ys.append(y_windows)\n",
    "        #break\n",
    "len(Xs), len(Ys), len(Xs[0]), len(Ys[0])\n",
    "#Xs[0]\n",
    "#Xs[0][0]\n"
   ]
  },
  {
   "cell_type": "code",
   "execution_count": 9,
   "metadata": {},
   "outputs": [
    {
     "data": {
      "text/plain": [
       "(417275, 417275, 60, 60)"
      ]
     },
     "execution_count": 9,
     "metadata": {},
     "output_type": "execute_result"
    }
   ],
   "source": [
    "# remove a layer of list\n",
    "X = []\n",
    "Y = []\n",
    "\n",
    "for x, y in zip(Xs, Ys):\n",
    "    for x_seq, y_seq in zip(x, y):\n",
    "        # print(len(x_seq), len(y_seq)) make sure len always same\n",
    "        X.extend(np.array(x))  \n",
    "        Y.extend(np.array(y)) #turn x into np.ndarray and store in X also Y \n",
    "len(X), len(Y), len(X[0]), len(Y[0]) #past_num, predict_num"
   ]
  },
  {
   "cell_type": "code",
   "execution_count": null,
   "metadata": {},
   "outputs": [],
   "source": [
    "X[0],Y[0], X[0][0].shape, Y[0][0].shape"
   ]
  },
  {
   "cell_type": "code",
   "execution_count": 11,
   "metadata": {},
   "outputs": [],
   "source": [
    "# split\n",
    "split_index = int(len(X) * 0.8)\n",
    "\n",
    "X_train = torch.tensor(np.array(X[:split_index])).float()\n",
    "X_test = torch.tensor(np.array(X[split_index:])).float()\n",
    "\n",
    "Y_train = torch.tensor(np.array(Y[:split_index])).float()\n",
    "Y_test = torch.tensor(np.array(Y[split_index:])).float()"
   ]
  },
  {
   "cell_type": "code",
   "execution_count": 12,
   "metadata": {},
   "outputs": [
    {
     "data": {
      "text/plain": [
       "(torch.Size([333820, 60, 6]),\n",
       " torch.Size([83455, 60, 6]),\n",
       " torch.Size([333820, 60, 1]),\n",
       " torch.Size([83455, 60, 1]))"
      ]
     },
     "execution_count": 12,
     "metadata": {},
     "output_type": "execute_result"
    }
   ],
   "source": [
    "X_train.shape, X_test.shape, Y_train.shape, Y_test.shape"
   ]
  },
  {
   "cell_type": "code",
   "execution_count": 13,
   "metadata": {},
   "outputs": [],
   "source": [
    "train_dataset = TimeSeriesDataset(X_train, Y_train)\n",
    "test_dataset = TimeSeriesDataset(X_test, Y_test) \n",
    "\n",
    "BATCH_SIZE = 256\n",
    "\n",
    "##### batch_size = 2\n",
    "##### loader = 16/2 = 8 batch in one loader\n",
    "train_loader = DataLoader(train_dataset, batch_size=BATCH_SIZE, shuffle=True)\n",
    "test_loader = DataLoader(test_dataset, batch_size=BATCH_SIZE, shuffle=False)"
   ]
  },
  {
   "cell_type": "code",
   "execution_count": 14,
   "metadata": {},
   "outputs": [],
   "source": [
    "# Define Model\n",
    "\n",
    "\"\"\"Note\n",
    "    Bbatch_first: Ensures the input tensors are shaped as (batch_size, seq_length, input_dim).\n",
    "    dropout=drop_prob: Adds dropout between LSTM layers for regularization.\n",
    "\"\"\"\n",
    "\n",
    "class LSTMNet(nn.Module):\n",
    "    def __init__(self, input_size, hidden_size, n_layers, drop_prob=0.2):\n",
    "        super(LSTMNet, self).__init__()\n",
    "        self.hidden_size = hidden_size\n",
    "        self.n_layers = n_layers\n",
    "        \n",
    "        self.lstm = nn.LSTM(input_size, hidden_size, n_layers, \n",
    "                            batch_first=True, dropout=drop_prob)\n",
    "        \n",
    "        # Fully connected layer for regression output\n",
    "        self.fc = nn.Linear(hidden_size, 1)# output_size = 1 for single value regression\n",
    "        #self.relu = nn.ReLU() #solve the vanish gradient issue\n",
    "        \n",
    "    \n",
    "    def forward(self, x):\n",
    "        batch_size = x.size(0)\n",
    "        h0 = torch.zeros(self.n_layers, batch_size, self.hidden_size).to(device)\n",
    "        c0 = torch.zeros(self.n_layers, batch_size, self.hidden_size).to(device)\n",
    "        \n",
    "        out, _ = self.lstm(x, (h0, c0))\n",
    "        out = self.fc(out)\n",
    "        # out = self.fc(out[:, -1, :])\n",
    "        return out"
   ]
  },
  {
   "cell_type": "code",
   "execution_count": 15,
   "metadata": {},
   "outputs": [
    {
     "name": "stderr",
     "output_type": "stream",
     "text": [
      "/Users/harris/anaconda3/envs/gr/lib/python3.11/site-packages/torch/nn/modules/rnn.py:83: UserWarning: dropout option adds dropout after all but last recurrent layer, so non-zero dropout expects num_layers greater than 1, but got dropout=0.2 and num_layers=1\n",
      "  warnings.warn(\"dropout option adds dropout after all but last \"\n"
     ]
    },
    {
     "data": {
      "text/plain": [
       "6"
      ]
     },
     "execution_count": 15,
     "metadata": {},
     "output_type": "execute_result"
    }
   ],
   "source": [
    "# input size = feature size\n",
    "\n",
    "model = LSTMNet(input_size=X_train.shape[2],hidden_size=5,n_layers=1)\n",
    "X_train.shape[2]"
   ]
  },
  {
   "cell_type": "code",
   "execution_count": 16,
   "metadata": {},
   "outputs": [],
   "source": [
    "def train_one_epoch():\n",
    "    model.train(True)\n",
    "    #print(f'Epoch: {epoch + 1}')\n",
    "    running_loss = 0.0\n",
    "    \n",
    "    for batch_i, batch in enumerate(train_loader):\n",
    "        x_batch, y_batch = batch[0].to(device), batch[1].to(device)\n",
    "        \n",
    "        optimizer.zero_grad()\n",
    "  \n",
    "        ouput = model(x_batch)\n",
    "        #print(f'x_batch_shape: {x_batch.shape}, output_batch_shape{ouput.shape}')\n",
    "        #x_batch_shape: torch.Size([256, 4, 5]), output_batch_shapetorch.Size([256, 4, 1])\n",
    "        \n",
    "        \n",
    "        #print(f'train:{ouput}')\n",
    "        loss = loss_fn(ouput[:, -1, :], y_batch[:, -1, :])\n",
    "        running_loss += loss.item()\n",
    "        \n",
    "        \n",
    "        loss.backward() ###why not backward\n",
    "        optimizer.step()\n",
    "        \n",
    "        # if batch_i % 100 == 99:\n",
    "        #     avg_loss_across_batches = running_loss / 100\n",
    "        #     print('Batch {0}, Loss: {1:.3f}'.format(batch_i + 1,\n",
    "        #                                             avg_loss_across_batches))\n",
    "            \n",
    "        #     running_loss = 0.0\n",
    "    #print()\n"
   ]
  },
  {
   "cell_type": "code",
   "execution_count": 17,
   "metadata": {},
   "outputs": [],
   "source": [
    "log = []\n",
    "\n",
    "def validate_one_epoch():\n",
    "    model.train(False)\n",
    "    running_loss = 0.0\n",
    "    \n",
    "    for batch_i, batch in enumerate(test_loader):\n",
    "        x_batch, y_batch = batch[0].to(device), batch[1].to(device)\n",
    "        \n",
    "        with torch.no_grad():\n",
    "            output = model(x_batch)\n",
    "            loss = loss_fn(output[:, -1, :], y_batch[:, -1, :])\n",
    "            running_loss += loss.item()\n",
    "            \n",
    "            if batch_i % 200 == 0:\n",
    "                log.append((output[:, -1, :],y_batch[:, -1, :]))\n",
    "                #print(f'predict:{output[:, -1, :]}, answer:{y_batch[:, -1, :]}')\n",
    "            \n",
    "    # avg_loss_accross_batches = running_loss / len(test_loader)\n",
    "    \n",
    "    # print('Val Loss: {0:.3f}'.format(avg_loss_accross_batches))\n",
    "    # print('***************************************************')\n",
    "    # print()"
   ]
  },
  {
   "cell_type": "code",
   "execution_count": 20,
   "metadata": {},
   "outputs": [
    {
     "name": "stdout",
     "output_type": "stream",
     "text": [
      "256, 256\n"
     ]
    },
    {
     "data": {
      "text/plain": [
       "1304"
      ]
     },
     "execution_count": 20,
     "metadata": {},
     "output_type": "execute_result"
    }
   ],
   "source": [
    "#3794\n",
    "for x_batch, y_batch in train_loader:\n",
    "    print(f'{len(x_batch)}, {len(y_batch)}')\n",
    "    break\n",
    "len(train_loader)"
   ]
  },
  {
   "cell_type": "code",
   "execution_count": null,
   "metadata": {},
   "outputs": [
    {
     "data": {
      "application/vnd.jupyter.widget-view+json": {
       "model_id": "eb1e182c8026477eace86c696b22a755",
       "version_major": 2,
       "version_minor": 0
      },
      "text/plain": [
       "Epochs:   0%|          | 0/100 [00:00<?, ?it/s]"
      ]
     },
     "metadata": {},
     "output_type": "display_data"
    }
   ],
   "source": [
    "learning_rate = 0.01\n",
    "num_epoches = 100\n",
    "loss_fn = nn.MSELoss()\n",
    "optimizer = torch.optim.Adam(params=model.parameters(), lr=learning_rate)\n",
    "\n",
    "for epoch in tqdm(range(num_epoches), desc=\"Epochs\"):\n",
    "# for epoch in range(num_epoches):\n",
    "    train_one_epoch()\n",
    "    validate_one_epoch()"
   ]
  },
  {
   "cell_type": "code",
   "execution_count": null,
   "metadata": {},
   "outputs": [
    {
     "data": {
      "image/png": "[encoded data removed]",
      "text/plain": [
       "<Figure size 640x480 with 1 Axes>"
      ]
     },
     "metadata": {},
     "output_type": "display_data"
    }
   ],
   "source": [
    "# Assuming 'log' contains the logged predictions and ground truths\n",
    "last_output, last_ground_truth = log[80]\n",
    "\n",
    "# Convert the predictions and ground truth to NumPy arrays\n",
    "# Flatten them if needed (to make plotting easier)\n",
    "last_output_flat = last_output.cpu().numpy().flatten()  # Flatten the prediction tensor\n",
    "last_ground_truth_flat = last_ground_truth.cpu().numpy().flatten()  # Flatten the ground truth tensor\n",
    "\n",
    "# Plot the last prediction against the ground truth\n",
    "plt.plot(last_output_flat, label=\"Last Prediction\")\n",
    "plt.plot(last_ground_truth_flat, label=\"Ground Truth\")\n",
    "plt.legend()\n",
    "plt.title(\"Prediction vs Ground Truth (Last Batch)\")\n",
    "plt.xlabel(\"Sample Index\")\n",
    "plt.ylabel(\"Value\")\n",
    "plt.show()\n"
   ]
  },
  {
   "cell_type": "code",
   "execution_count": null,
   "metadata": {},
   "outputs": [],
   "source": [
    "# # torch.save(model, 'LSTM_model.pth')\n",
    "# SAVE_PATH = 'LSTM_model_s3v1_nn6_8_1.pt'\n",
    "# torch.save(model.state_dict(), SAVE_PATH)"
   ]
  },
  {
   "cell_type": "code",
   "execution_count": null,
   "metadata": {},
   "outputs": [
    {
     "data": {
      "text/plain": [
       "<All keys matched successfully>"
      ]
     },
     "execution_count": 100,
     "metadata": {},
     "output_type": "execute_result"
    }
   ],
   "source": [
    "# #Load the Saved Model\n",
    "# loaded_model = LSTMNet(6,8,1)\n",
    "# loaded_model.load_state_dict(torch.load(SAVE_PATH))"
   ]
  },
  {
   "cell_type": "code",
   "execution_count": null,
   "metadata": {},
   "outputs": [
    {
     "data": {
      "text/plain": [
       "LSTMNet(\n",
       "  (lstm): LSTM(6, 8, batch_first=True, dropout=0.2)\n",
       "  (fc): Linear(in_features=8, out_features=1, bias=True)\n",
       ")"
      ]
     },
     "execution_count": 101,
     "metadata": {},
     "output_type": "execute_result"
    }
   ],
   "source": [
    "# loaded_model.eval()"
   ]
  }
 ],
 "metadata": {
  "kernelspec": {
   "display_name": "gr",
   "language": "python",
   "name": "python3"
  },
  "language_info": {
   "codemirror_mode": {
    "name": "ipython",
    "version": 3
   },
   "file_extension": ".py",
   "mimetype": "text/x-python",
   "name": "python",
   "nbconvert_exporter": "python",
   "pygments_lexer": "ipython3",
   "version": "3.11.10"
  }
 },
 "nbformat": 4,
 "nbformat_minor": 2
}
